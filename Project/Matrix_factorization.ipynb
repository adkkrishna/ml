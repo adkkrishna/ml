{
 "cells": [
  {
   "cell_type": "code",
   "execution_count": 11,
   "metadata": {},
   "outputs": [
    {
     "name": "stdout",
     "output_type": "stream",
     "text": [
      "[[6.04608089 7.32332908 6.91436134 6.89398005 5.64633927 6.68558972]\n",
      " [6.63502843 8.03814303 7.33252526 6.72720678 6.10321038 6.62193478]\n",
      " [5.65054185 5.45778967 6.16895148 6.99770352 6.2149248  6.8706853 ]\n",
      " [5.89508065 6.12855014 6.25003482 6.21658691 6.08977653 6.1969928 ]\n",
      " [7.80032385 6.89620158 7.51172945 7.06670813 8.6977158  7.34244365]\n",
      " [7.26061574 7.75765188 7.37158349 6.3588199  7.2251429  6.50339856]]\n"
     ]
    }
   ],
   "source": [
    "import numpy\n",
    "\n",
    "def matrix_factorization(R, P, Q, K, steps=10000, alpha=0.0002, beta=0.02):\n",
    "    Q = Q.T\n",
    "    for step in range(steps):\n",
    "        for i in range(len(R)):\n",
    "            for j in range(len(R[i])):\n",
    "                if R[i][j] > 0:\n",
    "                    eij = R[i][j] - numpy.dot(P[i,:],Q[:,j])\n",
    "                    for k in range(K):\n",
    "                        P[i][k] = P[i][k] + alpha * (2 * eij * Q[k][j] - beta * P[i][k])\n",
    "                        Q[k][j] = Q[k][j] + alpha * (2 * eij * P[i][k] - beta * Q[k][j])\n",
    "        eR = numpy.dot(P,Q)\n",
    "        e = 0\n",
    "        for i in range(len(R)):\n",
    "            for j in range(len(R[i])):\n",
    "                if R[i][j] > 0:\n",
    "                    e = e + pow(R[i][j] - numpy.dot(P[i,:],Q[:,j]), 2)\n",
    "                    for k in range(K):\n",
    "                        e = e + (beta/2) * (pow(P[i][k],2) + pow(Q[k][j],2))\n",
    "        if e < 0.001:\n",
    "            break\n",
    "#     print(numpy.shape(P))\n",
    "#     print(numpy.shape(Q))\n",
    "\n",
    "    return P, Q\n",
    "\n",
    "R = [[5.42, 7.54, 7.04, 6.84, 6.0, 6.7 ],\n",
    "       [6.74, 7.96, 7.5 , 6.72, 6.0, 6.6 ],\n",
    "       [5.99, 5.29, 6.2 , 7.06, 6.0, 6.89],\n",
    "       [6.2 , 6.21, 5.86, 6.32, 6.0, 6.26],\n",
    "       [7.34, 6.98, 7.72, 6.99, 9.0, 7.33],\n",
    "       [7.72, 7.68, 7.24, 6.41, 7.0, 6.51]]\n",
    "\n",
    "R = numpy.array(R)\n",
    "N = len(R)\n",
    "M = len(R[0])\n",
    "K = 3\n",
    "\n",
    "P = numpy.random.rand(N,K)\n",
    "Q = numpy.random.rand(M,K)\n",
    "\n",
    "U, V = matrix_factorization(R, P, Q, K)\n",
    "nR = numpy.dot(U, V)\n",
    "\n",
    "print(nR)\n"
   ]
  },
  {
   "cell_type": "code",
   "execution_count": 20,
   "metadata": {},
   "outputs": [
    {
     "name": "stdout",
     "output_type": "stream",
     "text": [
      "(6, 6)\n",
      "[[1.82513823 1.88340254 0.30038588]\n",
      " [2.27904793 1.50963298 0.46548049]\n",
      " [0.89720809 2.24111357 0.91197102]\n",
      " [1.40733951 1.65623828 0.9178431 ]\n",
      " [1.52460136 1.62173192 2.15345136]\n",
      " [2.2246444  1.18840753 1.2372304 ]]\n",
      "(6, 3)\n"
     ]
    }
   ],
   "source": [
    "print(numpy.shape(R))\n",
    "print(U)\n",
    "print(numpy.shape(U))"
   ]
  },
  {
   "cell_type": "code",
   "execution_count": 22,
   "metadata": {},
   "outputs": [
    {
     "name": "stdout",
     "output_type": "stream",
     "text": [
      "[[1.83457833 2.52922202 1.98537999 1.34832694 1.32573191 1.26123422]\n",
      " [1.23368837 1.33915166 1.59333302 2.24434862 1.4019736  2.20992029]\n",
      " [1.36951345 0.40120576 0.88268144 0.64677975 2.06274173 0.85057135]]\n",
      "(6, 3)\n"
     ]
    }
   ],
   "source": [
    "print(nQ.T)\n",
    "print(numpy.shape(nQ))"
   ]
  },
  {
   "cell_type": "code",
   "execution_count": 38,
   "metadata": {},
   "outputs": [],
   "source": [
    "aList = [123, 'xyz', 'zara', 'abc']\n",
    "\n",
    "strr = str(aList)"
   ]
  },
  {
   "cell_type": "code",
   "execution_count": 39,
   "metadata": {},
   "outputs": [
    {
     "data": {
      "text/plain": [
       "\"[123, 'xyz', 'zara', 'abc']\""
      ]
     },
     "execution_count": 39,
     "metadata": {},
     "output_type": "execute_result"
    }
   ],
   "source": [
    "strr"
   ]
  },
  {
   "cell_type": "code",
   "execution_count": 44,
   "metadata": {},
   "outputs": [
    {
     "name": "stdout",
     "output_type": "stream",
     "text": [
      "good\n"
     ]
    }
   ],
   "source": [
    "if \"123\" in strr:\n",
    "    print(\"good\")"
   ]
  },
  {
   "cell_type": "code",
   "execution_count": null,
   "metadata": {},
   "outputs": [],
   "source": []
  }
 ],
 "metadata": {
  "kernelspec": {
   "display_name": "Python 3",
   "language": "python",
   "name": "python3"
  },
  "language_info": {
   "codemirror_mode": {
    "name": "ipython",
    "version": 3
   },
   "file_extension": ".py",
   "mimetype": "text/x-python",
   "name": "python",
   "nbconvert_exporter": "python",
   "pygments_lexer": "ipython3",
   "version": "3.6.4"
  }
 },
 "nbformat": 4,
 "nbformat_minor": 2
}
