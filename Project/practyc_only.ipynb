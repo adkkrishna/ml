{
 "cells": [
  {
   "cell_type": "code",
   "execution_count": 2,
   "metadata": {},
   "outputs": [],
   "source": [
    "f = open('practyc.txt','w')\n",
    "f.write('hello world')\n",
    "f.close()"
   ]
  },
  {
   "cell_type": "code",
   "execution_count": 5,
   "metadata": {},
   "outputs": [],
   "source": [
    "text = \"ten_gpa,twelth_gpa,colz_gpa,nimcet_marks,psqt_gpa,me_gpa,co_gpa,pscp_gpa,pscp_lab_gpa,foss_lab_gpa,sgpa1,afm_gpa,ds_gpa,ss_gpa,oops_gpa,aad_gpa,ds_lab_gpa,ss_lab_gpa,oops_lab_gpa,sgpa2,cgpa2,os_gpa,dbms_gpa,wt_gpa,ospm_gpa,ads_gpa,os_lab_gpa,dbms_lab_gpa,wt_lab_gpa,sgpa3,cgpa3,pdwdm_gpa,ccn_gpa,se_gpa,ooad_gpa,dos_gpa,ke_lab_gpa,ccn_lab_gpa,set_lab_gpa,sgpa4,cgpa4,nps_gpa,uc_gpa,cc_gpa,dpsa_gpa,stt_gpa,seminar_viva_gpa,nps_lab_gpa,stt_lab_gpa,sgpa5,cgpa5,project_gpa,cgpa_final\""
   ]
  },
  {
   "cell_type": "code",
   "execution_count": 6,
   "metadata": {},
   "outputs": [
    {
     "name": "stdout",
     "output_type": "stream",
     "text": [
      "['ten_gpa', 'twelth_gpa', 'colz_gpa', 'nimcet_marks', 'psqt_gpa', 'me_gpa', 'co_gpa', 'pscp_gpa', 'pscp_lab_gpa', 'foss_lab_gpa', 'sgpa1', 'afm_gpa', 'ds_gpa', 'ss_gpa', 'oops_gpa', 'aad_gpa', 'ds_lab_gpa', 'ss_lab_gpa', 'oops_lab_gpa', 'sgpa2', 'cgpa2', 'os_gpa', 'dbms_gpa', 'wt_gpa', 'ospm_gpa', 'ads_gpa', 'os_lab_gpa', 'dbms_lab_gpa', 'wt_lab_gpa', 'sgpa3', 'cgpa3', 'pdwdm_gpa', 'ccn_gpa', 'se_gpa', 'ooad_gpa', 'dos_gpa', 'ke_lab_gpa', 'ccn_lab_gpa', 'set_lab_gpa', 'sgpa4', 'cgpa4', 'nps_gpa', 'uc_gpa', 'cc_gpa', 'dpsa_gpa', 'stt_gpa', 'seminar_viva_gpa', 'nps_lab_gpa', 'stt_lab_gpa', 'sgpa5', 'cgpa5', 'project_gpa', 'cgpa_final']\n"
     ]
    }
   ],
   "source": [
    "import re\n",
    "courses = re.split(',',text)\n",
    "print(courses)"
   ]
  },
  {
   "cell_type": "code",
   "execution_count": 1,
   "metadata": {},
   "outputs": [],
   "source": [
    "\n",
    "N = 3\n",
    "M = 4\n"
   ]
  },
  {
   "cell_type": "code",
   "execution_count": 2,
   "metadata": {},
   "outputs": [
    {
     "data": {
      "text/plain": [
       "[[0, 0, 0], [0, 0, 0], [0, 0, 0], [0, 0, 0]]"
      ]
     },
     "execution_count": 2,
     "metadata": {},
     "output_type": "execute_result"
    }
   ],
   "source": [
    "zeros"
   ]
  },
  {
   "cell_type": "code",
   "execution_count": 28,
   "metadata": {},
   "outputs": [
    {
     "name": "stdout",
     "output_type": "stream",
     "text": [
      "sahi h!!\n",
      "[[5, 4, 2, 1]]\n"
     ]
    }
   ],
   "source": [
    "X = []\n",
    "X.append([5, 4, 2,1])\n",
    "X.append([])\n",
    "X.append([])\n",
    "any(4 in sublist for sublist in X)\n",
    "# print(sublist)\n",
    "    \n",
    "if any(4 in sublist for sublist in X):\n",
    "    print(\"sahi h!!\")\n",
    "    print(a)\n",
    "else:\n",
    "    print(\"kuch galt h :((\")\n",
    "    print(X)"
   ]
  },
  {
   "cell_type": "code",
   "execution_count": 30,
   "metadata": {},
   "outputs": [
    {
     "name": "stdout",
     "output_type": "stream",
     "text": [
      "[1, 2, 3, 4, 5, 6]\n"
     ]
    }
   ],
   "source": [
    "a = [1,2,3]\n",
    "b = [4,5,6]\n",
    "\n",
    "a.extend(b)\n",
    "print(a)"
   ]
  },
  {
   "cell_type": "code",
   "execution_count": null,
   "metadata": {},
   "outputs": [],
   "source": []
  }
 ],
 "metadata": {
  "kernelspec": {
   "display_name": "Python 3",
   "language": "python",
   "name": "python3"
  },
  "language_info": {
   "codemirror_mode": {
    "name": "ipython",
    "version": 3
   },
   "file_extension": ".py",
   "mimetype": "text/x-python",
   "name": "python",
   "nbconvert_exporter": "python",
   "pygments_lexer": "ipython3",
   "version": "3.6.4"
  }
 },
 "nbformat": 4,
 "nbformat_minor": 2
}
